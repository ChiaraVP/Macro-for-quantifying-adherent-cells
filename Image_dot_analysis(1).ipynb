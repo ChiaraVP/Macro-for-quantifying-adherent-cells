{
  "nbformat": 4,
  "nbformat_minor": 0,
  "metadata": {
    "colab": {
      "provenance": []
    },
    "kernelspec": {
      "name": "python3",
      "display_name": "Python 3"
    },
    "language_info": {
      "name": "python"
    }
  },
  "cells": [
    {
      "cell_type": "code",
      "execution_count": 1,
      "metadata": {
        "id": "JjlV_YC9ZXxq"
      },
      "outputs": [],
      "source": [
        "import cv2\n",
        "import numpy as np\n",
        "from google.colab import drive\n",
        "import matplotlib.pyplot as plt\n",
        "import os\n",
        "import matplotlib.pyplot as plt\n",
        "import pandas as pd"
      ]
    },
    {
      "cell_type": "code",
      "source": [
        "1# Do not modify this part!\n",
        "\n",
        "class ImageAnalyser():\n",
        "  def __init__(self, path):\n",
        "    self.path = path\n",
        "\n",
        "  def run(self):\n",
        "    result_list = []\n",
        "    for path in os.listdir(self.path):\n",
        "      if path.split(\".\")[-1] == \"jpg\":\n",
        "        no_ext_path = path.strip(\".jpg\")\n",
        "        result = self.analyse(path)\n",
        "        # info = no_ext_path.split(\" \")[-2:]\n",
        "        # info.extend([str(result)])\n",
        "        # result_list.append(info)\n",
        "        result_list.append([no_ext_path, str(result)])\n",
        "    # df = pd.DataFrame(result_list, columns=[\"Parameter 1\", \"Parameter 2\", \"Tumor Cell Adhesion (% of bright pixels)\"])\n",
        "    # df = pd.DataFrame(result_list, columns=[\"Parameter 1\", \"Parameter 2\", \"Tumor Cell Adhesion (absolute amount of pixels)\"])\n",
        "    df = pd.DataFrame(result_list, columns=[\"Filename\", \"Tumor Cell Adhesion (absolute amount of pixels)\"])\n",
        "    df_sorted = df.sort_values(by=[\"Filename\"])\n",
        "    print(df_sorted)\n",
        "    df_sorted[\"Tumor Cell Adhesion (absolute amount of pixels)\"] = pd.to_numeric(df_sorted[\"Tumor Cell Adhesion (absolute amount of pixels)\"])\n",
        "    plt.figure(figsize=(20,10))\n",
        "    plt.xticks(rotation=90)\n",
        "    plt.bar(df_sorted[\"Filename\"], df_sorted[\"Tumor Cell Adhesion (absolute amount of pixels)\"])\n",
        "    return df_sorted\n",
        "\n",
        "  def analyse(self, path):\n",
        "    img = cv2.imread(path)\n",
        "    print(f\"Original image: {path}\\n\")\n",
        "    self.imgShow(img)\n",
        "\n",
        "    # Denoising\n",
        "    denoisedImg = cv2.fastNlMeansDenoising(img)\n",
        "    img = cv2.cvtColor(denoisedImg,cv2.COLOR_BGR2GRAY)\n",
        "\n",
        "    # Threshold (binary image)\n",
        "    # thresh – threshold value.\n",
        "    # maxval – maximum value to use with the THRESH_BINARY and THRESH_BINARY_INV thresholding types.\n",
        "    # type – thresholding type\n",
        "    th, threshedImg = cv2.threshold(img, 60, 255,cv2.THRESH_BINARY) # src, thresh, maxval, type\n",
        "\n",
        "    # Perform morphological transformations using an erosion and dilation as basic operations\n",
        "    kernel = cv2.getStructuringElement(cv2.MORPH_ELLIPSE, (5,5))\n",
        "    morphImg = cv2.morphologyEx(threshedImg, cv2.MORPH_OPEN, kernel)\n",
        "\n",
        "    # Find and draw contours\n",
        "    contours, hierarchy = cv2.findContours(morphImg, cv2.RETR_TREE, cv2.CHAIN_APPROX_SIMPLE)\n",
        "    contoursImg = cv2.cvtColor(morphImg, cv2.COLOR_GRAY2RGB)\n",
        "    cv2.drawContours(contoursImg, contours, -1, (255,255,255), 1)\n",
        "\n",
        "    print(\"Processed image:\\n\")\n",
        "    self.imgShow(contoursImg)\n",
        "\n",
        "    number_of_white_pix = np.sum(threshedImg == 255)\n",
        "    # number_of_total_pix = np.sum(threshedImg >= 0)\n",
        "    # white_density = round((number_of_white_pix/number_of_total_pix)*100,3)\n",
        "    # print(f\"Relative amount of white pixels in image: {white_density} %\")\n",
        "    # print(\"\\n\\n------------------------------------------------------------------------------------------------------\\n\\n\")\n",
        "    print(f\"Absolute amount of white pixels in image: {number_of_white_pix} pixels\")\n",
        "    print(\"\\n\\n------------------------------------------------------------------------------------------------------\\n\\n\")\n",
        "    return number_of_white_pix\n",
        "\n",
        "  def imgShow(self, image):\n",
        "    plt.figure(figsize=(10,6))\n",
        "    plt.imshow(image, cmap = \"gray\")\n",
        "    plt.show()"
      ],
      "metadata": {
        "id": "eAKZIUtl1IwT"
      },
      "execution_count": 2,
      "outputs": []
    },
    {
      "cell_type": "code",
      "source": [
        "path = \"/content/\" # Change the path\n",
        "img_analyser = ImageAnalyser(path)\n",
        "table = img_analyser.run()"
      ],
      "metadata": {
        "id": "dxQoVO0Q7HuE"
      },
      "execution_count": null,
      "outputs": []
    },
    {
      "cell_type": "markdown",
      "source": [
        "# Neuer Abschnitt"
      ],
      "metadata": {
        "id": "G_8NAFfY3jcX"
      }
    },
    {
      "cell_type": "markdown",
      "source": [],
      "metadata": {
        "id": "GY0kd-Vt_teZ"
      }
    },
    {
      "cell_type": "code",
      "source": [
        "table"
      ],
      "metadata": {
        "id": "GqUfjYxawAXq"
      },
      "execution_count": null,
      "outputs": []
    },
    {
      "cell_type": "code",
      "source": [
        "table.to_csv(\"/content/table-2024-02-29.csv\")"
      ],
      "metadata": {
        "id": "NgU_kqOkwHTy"
      },
      "execution_count": null,
      "outputs": []
    }
  ]
}